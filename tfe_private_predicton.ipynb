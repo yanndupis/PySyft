{
 "cells": [
  {
   "cell_type": "markdown",
   "metadata": {},
   "source": [
    "## TF Encrypted Private Prediction"
   ]
  },
  {
   "cell_type": "code",
   "execution_count": 4,
   "metadata": {},
   "outputs": [],
   "source": [
    "import syft\n",
    "import numpy as np\n",
    "import tensorflow as tf"
   ]
  },
  {
   "cell_type": "code",
   "execution_count": 5,
   "metadata": {},
   "outputs": [],
   "source": [
    "model = syft.tfe.Sequential([\n",
    "    syft.tfe.layers.Dense(units=36, activation='relu', use_bias=True),\n",
    "    syft.tfe.layers.Dense(units=10, activation='relu', use_bias=True)\n",
    "])"
   ]
  },
  {
   "cell_type": "code",
   "execution_count": 6,
   "metadata": {},
   "outputs": [
    {
     "name": "stdout",
     "output_type": "stream",
     "text": [
      "[[0.00214905 1.0889577  0.         0.         0.         0.\n",
      "  0.38043877 0.         0.6275269  0.        ]]\n"
     ]
    }
   ],
   "source": [
    "# Currently using keras under the hood.\n",
    "# will have to provide protocol when tfe.keras is ready\n",
    "# the share method instantiate the keras model \n",
    "tfe_model = model.share(prot=None)\n",
    "\n",
    "data = np.ones([1, 10])\n",
    "\n",
    "predictions = tfe_model.predict(data)\n",
    "\n",
    "print(predictions)"
   ]
  },
  {
   "cell_type": "code",
   "execution_count": null,
   "metadata": {},
   "outputs": [],
   "source": []
  },
  {
   "cell_type": "code",
   "execution_count": null,
   "metadata": {},
   "outputs": [],
   "source": []
  }
 ],
 "metadata": {
  "kernelspec": {
   "display_name": "Python 3",
   "language": "python",
   "name": "python3"
  },
  "language_info": {
   "codemirror_mode": {
    "name": "ipython",
    "version": 3
   },
   "file_extension": ".py",
   "mimetype": "text/x-python",
   "name": "python",
   "nbconvert_exporter": "python",
   "pygments_lexer": "ipython3",
   "version": "3.6.7"
  }
 },
 "nbformat": 4,
 "nbformat_minor": 2
}
